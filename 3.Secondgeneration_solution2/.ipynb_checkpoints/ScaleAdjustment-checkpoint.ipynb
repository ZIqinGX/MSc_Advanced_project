{
 "cells": [
  {
   "cell_type": "code",
   "execution_count": 1,
   "id": "2d7a9a44-eb1a-4db9-ae99-82ff713b75f2",
   "metadata": {},
   "outputs": [
    {
     "name": "stdout",
     "output_type": "stream",
     "text": [
      "Requirement already satisfied: music21 in c:\\users\\os\\miniconda3\\envs\\fyp1gpu\\lib\\site-packages (8.3.0)\n",
      "Requirement already satisfied: chardet in c:\\users\\os\\miniconda3\\envs\\fyp1gpu\\lib\\site-packages (from music21) (5.2.0)\n",
      "Requirement already satisfied: joblib in c:\\users\\os\\miniconda3\\envs\\fyp1gpu\\lib\\site-packages (from music21) (1.2.0)\n",
      "Requirement already satisfied: jsonpickle in c:\\users\\os\\miniconda3\\envs\\fyp1gpu\\lib\\site-packages (from music21) (3.0.2)\n",
      "Requirement already satisfied: matplotlib in c:\\users\\os\\miniconda3\\envs\\fyp1gpu\\lib\\site-packages (from music21) (3.7.2)\n",
      "Requirement already satisfied: more-itertools in c:\\users\\os\\miniconda3\\envs\\fyp1gpu\\lib\\site-packages (from music21) (10.1.0)\n",
      "Requirement already satisfied: numpy in c:\\users\\os\\miniconda3\\envs\\fyp1gpu\\lib\\site-packages (from music21) (1.24.3)\n",
      "Requirement already satisfied: requests in c:\\users\\os\\miniconda3\\envs\\fyp1gpu\\lib\\site-packages (from music21) (2.31.0)\n",
      "Requirement already satisfied: webcolors>=1.5 in c:\\users\\os\\miniconda3\\envs\\fyp1gpu\\lib\\site-packages (from music21) (1.13)\n",
      "Requirement already satisfied: contourpy>=1.0.1 in c:\\users\\os\\miniconda3\\envs\\fyp1gpu\\lib\\site-packages (from matplotlib->music21) (1.1.0)\n",
      "Requirement already satisfied: cycler>=0.10 in c:\\users\\os\\miniconda3\\envs\\fyp1gpu\\lib\\site-packages (from matplotlib->music21) (0.11.0)\n",
      "Requirement already satisfied: fonttools>=4.22.0 in c:\\users\\os\\miniconda3\\envs\\fyp1gpu\\lib\\site-packages (from matplotlib->music21) (4.42.1)\n",
      "Requirement already satisfied: kiwisolver>=1.0.1 in c:\\users\\os\\miniconda3\\envs\\fyp1gpu\\lib\\site-packages (from matplotlib->music21) (1.4.5)\n",
      "Requirement already satisfied: packaging>=20.0 in c:\\users\\os\\miniconda3\\envs\\fyp1gpu\\lib\\site-packages (from matplotlib->music21) (23.1)\n",
      "Requirement already satisfied: pillow>=6.2.0 in c:\\users\\os\\miniconda3\\envs\\fyp1gpu\\lib\\site-packages (from matplotlib->music21) (10.0.0)\n",
      "Requirement already satisfied: pyparsing<3.1,>=2.3.1 in c:\\users\\os\\miniconda3\\envs\\fyp1gpu\\lib\\site-packages (from matplotlib->music21) (3.0.9)\n",
      "Requirement already satisfied: python-dateutil>=2.7 in c:\\users\\os\\miniconda3\\envs\\fyp1gpu\\lib\\site-packages (from matplotlib->music21) (2.8.2)\n",
      "Requirement already satisfied: importlib-resources>=3.2.0 in c:\\users\\os\\miniconda3\\envs\\fyp1gpu\\lib\\site-packages (from matplotlib->music21) (6.0.1)\n",
      "Requirement already satisfied: charset-normalizer<4,>=2 in c:\\users\\os\\miniconda3\\envs\\fyp1gpu\\lib\\site-packages (from requests->music21) (3.2.0)\n",
      "Requirement already satisfied: idna<4,>=2.5 in c:\\users\\os\\miniconda3\\envs\\fyp1gpu\\lib\\site-packages (from requests->music21) (3.4)\n",
      "Requirement already satisfied: urllib3<3,>=1.21.1 in c:\\users\\os\\miniconda3\\envs\\fyp1gpu\\lib\\site-packages (from requests->music21) (1.26.16)\n",
      "Requirement already satisfied: certifi>=2017.4.17 in c:\\users\\os\\miniconda3\\envs\\fyp1gpu\\lib\\site-packages (from requests->music21) (2023.7.22)\n",
      "Requirement already satisfied: zipp>=3.1.0 in c:\\users\\os\\miniconda3\\envs\\fyp1gpu\\lib\\site-packages (from importlib-resources>=3.2.0->matplotlib->music21) (3.16.2)\n",
      "Requirement already satisfied: six>=1.5 in c:\\users\\os\\miniconda3\\envs\\fyp1gpu\\lib\\site-packages (from python-dateutil>=2.7->matplotlib->music21) (1.16.0)\n"
     ]
    }
   ],
   "source": [
    "!pip install music21"
   ]
  },
  {
   "cell_type": "code",
   "execution_count": 2,
   "id": "4d6eb4db-df93-4fb8-977e-a6399cdf6ad5",
   "metadata": {},
   "outputs": [
    {
     "name": "stdout",
     "output_type": "stream",
     "text": [
      "Requirement already satisfied: ipywidgets in c:\\users\\os\\miniconda3\\envs\\fyp1gpu\\lib\\site-packages (8.1.0)\n",
      "Requirement already satisfied: comm>=0.1.3 in c:\\users\\os\\miniconda3\\envs\\fyp1gpu\\lib\\site-packages (from ipywidgets) (0.1.4)\n",
      "Requirement already satisfied: ipython>=6.1.0 in c:\\users\\os\\miniconda3\\envs\\fyp1gpu\\lib\\site-packages (from ipywidgets) (8.12.0)\n",
      "Requirement already satisfied: traitlets>=4.3.1 in c:\\users\\os\\miniconda3\\envs\\fyp1gpu\\lib\\site-packages (from ipywidgets) (5.9.0)\n",
      "Requirement already satisfied: widgetsnbextension~=4.0.7 in c:\\users\\os\\miniconda3\\envs\\fyp1gpu\\lib\\site-packages (from ipywidgets) (4.0.8)\n",
      "Requirement already satisfied: jupyterlab-widgets~=3.0.7 in c:\\users\\os\\miniconda3\\envs\\fyp1gpu\\lib\\site-packages (from ipywidgets) (3.0.8)\n",
      "Requirement already satisfied: backcall in c:\\users\\os\\miniconda3\\envs\\fyp1gpu\\lib\\site-packages (from ipython>=6.1.0->ipywidgets) (0.2.0)\n",
      "Requirement already satisfied: decorator in c:\\users\\os\\miniconda3\\envs\\fyp1gpu\\lib\\site-packages (from ipython>=6.1.0->ipywidgets) (5.1.1)\n",
      "Requirement already satisfied: jedi>=0.16 in c:\\users\\os\\miniconda3\\envs\\fyp1gpu\\lib\\site-packages (from ipython>=6.1.0->ipywidgets) (0.19.0)\n",
      "Requirement already satisfied: matplotlib-inline in c:\\users\\os\\miniconda3\\envs\\fyp1gpu\\lib\\site-packages (from ipython>=6.1.0->ipywidgets) (0.1.6)\n",
      "Requirement already satisfied: pickleshare in c:\\users\\os\\miniconda3\\envs\\fyp1gpu\\lib\\site-packages (from ipython>=6.1.0->ipywidgets) (0.7.5)\n",
      "Requirement already satisfied: prompt-toolkit!=3.0.37,<3.1.0,>=3.0.30 in c:\\users\\os\\miniconda3\\envs\\fyp1gpu\\lib\\site-packages (from ipython>=6.1.0->ipywidgets) (3.0.39)\n",
      "Requirement already satisfied: pygments>=2.4.0 in c:\\users\\os\\miniconda3\\envs\\fyp1gpu\\lib\\site-packages (from ipython>=6.1.0->ipywidgets) (2.16.1)\n",
      "Requirement already satisfied: stack-data in c:\\users\\os\\miniconda3\\envs\\fyp1gpu\\lib\\site-packages (from ipython>=6.1.0->ipywidgets) (0.6.2)\n",
      "Requirement already satisfied: typing-extensions in c:\\users\\os\\miniconda3\\envs\\fyp1gpu\\lib\\site-packages (from ipython>=6.1.0->ipywidgets) (4.7.1)\n",
      "Requirement already satisfied: colorama in c:\\users\\os\\miniconda3\\envs\\fyp1gpu\\lib\\site-packages (from ipython>=6.1.0->ipywidgets) (0.4.6)\n",
      "Requirement already satisfied: parso<0.9.0,>=0.8.3 in c:\\users\\os\\miniconda3\\envs\\fyp1gpu\\lib\\site-packages (from jedi>=0.16->ipython>=6.1.0->ipywidgets) (0.8.3)\n",
      "Requirement already satisfied: wcwidth in c:\\users\\os\\miniconda3\\envs\\fyp1gpu\\lib\\site-packages (from prompt-toolkit!=3.0.37,<3.1.0,>=3.0.30->ipython>=6.1.0->ipywidgets) (0.2.6)\n",
      "Requirement already satisfied: executing>=1.2.0 in c:\\users\\os\\miniconda3\\envs\\fyp1gpu\\lib\\site-packages (from stack-data->ipython>=6.1.0->ipywidgets) (1.2.0)\n",
      "Requirement already satisfied: asttokens>=2.1.0 in c:\\users\\os\\miniconda3\\envs\\fyp1gpu\\lib\\site-packages (from stack-data->ipython>=6.1.0->ipywidgets) (2.2.1)\n",
      "Requirement already satisfied: pure-eval in c:\\users\\os\\miniconda3\\envs\\fyp1gpu\\lib\\site-packages (from stack-data->ipython>=6.1.0->ipywidgets) (0.2.2)\n",
      "Requirement already satisfied: six in c:\\users\\os\\miniconda3\\envs\\fyp1gpu\\lib\\site-packages (from asttokens>=2.1.0->stack-data->ipython>=6.1.0->ipywidgets) (1.16.0)\n"
     ]
    }
   ],
   "source": [
    "!pip install ipywidgets"
   ]
  },
  {
   "cell_type": "markdown",
   "id": "510f1cd5-f718-4039-82b6-dd29becb590f",
   "metadata": {},
   "source": [
    "\n",
    "**定义调式规则：为每种调式定义一个有效音符的集合。例如，C大调的音符是C D E F G A B，而C自然小调的音符是C D E♭ F G A♭ B♭。**\n",
    "\n",
    "**检查生成的音符：每当生成一个音符时，检查它是否在给定调式的音符集合中。**\n",
    "\n",
    "**调整音符：如果音符不在调式的集合中，将其调整到最接近的有效音符。**"
   ]
  },
  {
   "cell_type": "code",
   "execution_count": 6,
   "id": "f8285380-0b42-4d5b-91c2-aa9ad7b8a89a",
   "metadata": {},
   "outputs": [
    {
     "name": "stdout",
     "output_type": "stream",
     "text": [
      "Original Note: E-\n",
      "Adjusted Note (Major): D\n",
      "Adjusted Note (Minor): E-\n"
     ]
    }
   ],
   "source": [
    "from music21 import pitch\n",
    "\n",
    "# 定义调式规则\n",
    "MAJOR_SCALE = [\"C\", \"D\", \"E\", \"F\", \"G\", \"A\", \"B\"]\n",
    "MINOR_SCALE = [\"C\", \"D\", \"E-\", \"F\", \"G\", \"A-\", \"B-\"]\n",
    "\n",
    "def adjust_to_key(note_name, key=\"major\"):\n",
    "    \"\"\"调整音符使其符合指定的调式规则\"\"\"\n",
    "    if key == \"major\":\n",
    "        scale = MAJOR_SCALE\n",
    "    elif key == \"minor\":\n",
    "        scale = MINOR_SCALE\n",
    "    else:\n",
    "        raise ValueError(\"Unsupported key\")\n",
    "    \n",
    "    # 使用music21库找到最接近的音符\n",
    "    p = pitch.Pitch(note_name)\n",
    "    closest_note = min(scale, key=lambda scale_note: abs(p.ps - pitch.Pitch(scale_note).ps))\n",
    "    \n",
    "    return closest_note\n",
    "\n",
    "# 示例\n",
    "generated_note = \"E-\"\n",
    "print(f\"Original Note: {generated_note}\")\n",
    "print(f\"Adjusted Note (Major): {adjust_to_key(generated_note, key='major')}\")\n",
    "print(f\"Adjusted Note (Minor): {adjust_to_key(generated_note, key='minor')}\")\n"
   ]
  },
  {
   "cell_type": "markdown",
   "id": "3c3103de-7b0e-4cf2-a12d-1cf6d0ec9e9b",
   "metadata": {},
   "source": [
    "**音阶试听 scale listening**"
   ]
  },
  {
   "cell_type": "code",
   "execution_count": 5,
   "id": "cce04cad-4fac-4f79-9595-8b51baa052c2",
   "metadata": {},
   "outputs": [
    {
     "data": {
      "application/vnd.jupyter.widget-view+json": {
       "model_id": "f0af4c7d20df4aa6bb93c4c5c3771c6c",
       "version_major": 2,
       "version_minor": 0
      },
      "text/plain": [
       "Dropdown(description='Scale:', options=('C Major', 'G Major', 'D Major', 'A Major', 'E Major', 'B Major', 'F# …"
      ]
     },
     "metadata": {},
     "output_type": "display_data"
    },
    {
     "data": {
      "application/vnd.jupyter.widget-view+json": {
       "model_id": "ecb61515cbdd4f3a8946b1a46faba569",
       "version_major": 2,
       "version_minor": 0
      },
      "text/plain": [
       "Button(description='Play', style=ButtonStyle())"
      ]
     },
     "metadata": {},
     "output_type": "display_data"
    }
   ],
   "source": [
    "import ipywidgets as widgets\n",
    "from IPython.display import display\n",
    "from music21 import stream, note, midi\n",
    "\n",
    "# 预设的大调音阶\n",
    "scales = {\n",
    "    \"C Major\": [\"C4\", \"D4\", \"E4\", \"F4\", \"G4\", \"A4\", \"B4\", \"C5\"],\n",
    "    \"G Major\": [\"G4\", \"A4\", \"B4\", \"C5\", \"D5\", \"E5\", \"F#5\", \"G5\"],\n",
    "    \"D Major\": [\"D4\", \"E4\", \"F#4\", \"G4\", \"A4\", \"B4\", \"C#5\", \"D5\"],\n",
    "    \"A Major\": [\"A4\", \"B4\", \"C#5\", \"D5\", \"E5\", \"F#5\", \"G#5\", \"A5\"],\n",
    "    \"E Major\": [\"E4\", \"F#4\", \"G#4\", \"A4\", \"B4\", \"C#5\", \"D#5\", \"E5\"],\n",
    "    \"B Major\": [\"B4\", \"C#5\", \"D#5\", \"E5\", \"F#5\", \"G#5\", \"A#5\", \"B5\"],\n",
    "    \"F# Major\": [\"F#4\", \"G#4\", \"A#4\", \"B4\", \"C#5\", \"D#5\", \"E#5\", \"F#5\"],\n",
    "    \"Db Major\": [\"Db4\", \"Eb4\", \"F4\", \"Gb4\", \"Ab4\", \"Bb4\", \"C5\", \"Db5\"],\n",
    "    \"Ab Major\": [\"Ab4\", \"Bb4\", \"C5\", \"Db5\", \"Eb5\", \"F5\", \"G5\", \"Ab5\"],\n",
    "    \"Eb Major\": [\"Eb4\", \"F4\", \"G4\", \"Ab4\", \"Bb4\", \"C5\", \"D5\", \"Eb5\"],\n",
    "    \"Bb Major\": [\"Bb4\", \"C5\", \"D5\", \"Eb5\", \"F5\", \"G5\", \"A5\", \"Bb5\"],\n",
    "    \"F Major\": [\"F4\", \"G4\", \"A4\", \"Bb4\", \"C5\", \"D5\", \"E5\", \"F5\"]\n",
    "}\n",
    "\n",
    "def play_scale(scale_name):\n",
    "    \"\"\"播放指定的音阶\"\"\"\n",
    "    notes_list = scales[scale_name]\n",
    "    s = stream.Stream()\n",
    "    for n in notes_list:\n",
    "        s.append(note.Note(n, quarterLength=0.5))\n",
    "    sp = midi.realtime.StreamPlayer(s)\n",
    "    sp.play()\n",
    "\n",
    "# 创建下拉菜单和按钮\n",
    "scale_dropdown = widgets.Dropdown(options=list(scales.keys()), description=\"Scale:\")\n",
    "play_button = widgets.Button(description=\"Play\")\n",
    "\n",
    "def on_play_button_click(button):\n",
    "    play_scale(scale_dropdown.value)\n",
    "\n",
    "play_button.on_click(on_play_button_click)\n",
    "\n",
    "# 显示下拉菜单和按钮\n",
    "display(scale_dropdown, play_button)\n"
   ]
  },
  {
   "cell_type": "code",
   "execution_count": null,
   "id": "dbbefda5-60a4-451d-97ad-f3c04c2ae017",
   "metadata": {},
   "outputs": [],
   "source": []
  }
 ],
 "metadata": {
  "kernelspec": {
   "display_name": "fyp1gpu",
   "language": "python",
   "name": "fyp1gpu"
  },
  "language_info": {
   "codemirror_mode": {
    "name": "ipython",
    "version": 3
   },
   "file_extension": ".py",
   "mimetype": "text/x-python",
   "name": "python",
   "nbconvert_exporter": "python",
   "pygments_lexer": "ipython3",
   "version": "3.8.17"
  }
 },
 "nbformat": 4,
 "nbformat_minor": 5
}
