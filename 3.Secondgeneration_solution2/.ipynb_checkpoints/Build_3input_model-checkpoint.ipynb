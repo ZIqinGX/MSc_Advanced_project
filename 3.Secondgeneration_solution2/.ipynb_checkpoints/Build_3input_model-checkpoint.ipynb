{
 "cells": [
  {
   "cell_type": "code",
   "execution_count": null,
   "id": "ff310c49-13ca-40a1-8dc8-703473288237",
   "metadata": {},
   "outputs": [],
   "source": [
    "from keras.layers import Input, LSTM, Dense, concatenate\n",
    "from keras.models import Model\n",
    "\n",
    "# 音符输入\n",
    "notes_input = Input(shape=(40, note_feature_size))  # note_feature_size是音符特征的维度\n",
    "lstm_out = LSTM(128)(notes_input)\n",
    "\n",
    "# 手部位置输入\n",
    "hand_position_input = Input(shape=(2,))  # x和y坐标\n",
    "dense_hand = Dense(64, activation='relu')(hand_position_input)\n",
    "\n",
    "# 融合两个网络的输出\n",
    "merged = concatenate([lstm_out, dense_hand])\n",
    "\n",
    "output = Dense(note_output_size, activation='softmax')(merged)  # note_output_size是输出音符的类别数量\n",
    "\n",
    "model = Model(inputs=[notes_input, hand_position_input], outputs=output)\n",
    "model.compile(optimizer='adam', loss='categorical_crossentropy')\n"
   ]
  }
 ],
 "metadata": {
  "kernelspec": {
   "display_name": "fyp1gpu",
   "language": "python",
   "name": "fyp1gpu"
  },
  "language_info": {
   "codemirror_mode": {
    "name": "ipython",
    "version": 3
   },
   "file_extension": ".py",
   "mimetype": "text/x-python",
   "name": "python",
   "nbconvert_exporter": "python",
   "pygments_lexer": "ipython3",
   "version": "3.8.17"
  }
 },
 "nbformat": 4,
 "nbformat_minor": 5
}
