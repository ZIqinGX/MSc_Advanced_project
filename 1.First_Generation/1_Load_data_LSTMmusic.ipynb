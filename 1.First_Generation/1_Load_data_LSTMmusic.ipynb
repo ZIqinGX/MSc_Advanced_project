{
 "cells": [
  {
   "cell_type": "markdown",
   "id": "9f624897-3069-4bd5-8511-4e01c4a2319c",
   "metadata": {},
   "source": [
    "**This notebook use information from** <br/>\n",
    "https://www.tensorflow.org/tutorials/audio/music_generation?hl=zh-cn <br/>\n",
    "and <br/>\n",
    "https://www.kaggle.com/code/karnikakapoor/music-generation-lstm/notebook"
   ]
  },
  {
   "cell_type": "markdown",
   "id": "9aa3f058-be9b-4919-b505-1bf230cb5d90",
   "metadata": {},
   "source": [
    "## **1.Import libraries**"
   ]
  },
  {
   "cell_type": "code",
   "execution_count": 2,
   "id": "4cc9af17-a7c1-4848-9dbd-078707e9855b",
   "metadata": {},
   "outputs": [],
   "source": [
    "import numpy as np # linear algebra\n",
    "import pandas as pd # data processing, CSV file I/O (e.g. pd.read_csv)\n",
    "\n",
    "# Input data files are available in the read-only \"../input/\" directory\n",
    "# For example, running this (by clicking run or pressing Shift+Enter) will list all files under the input directory\n",
    "\n",
    "\n",
    "# You can write up to 20GB to the current directory (/kaggle/working/) that gets preserved as output when you create a version using \"Save & Run All\" \n",
    "# You can also write temporary files to /kaggle/temp/, but they won't be saved outside of the current session\n",
    "\n",
    "#Installing dependencies\n",
    "# !pip install music21\n",
    "# !apt-get install -y lilypond\n",
    "# !winget install -y lilypond"
   ]
  },
  {
   "cell_type": "code",
   "execution_count": 3,
   "id": "f56b08ba-639b-4050-a49c-04a568a544e8",
   "metadata": {},
   "outputs": [],
   "source": [
    "import tensorflow \n",
    "import numpy as np\n",
    "import os\n",
    "import pandas as pd \n",
    "from collections import Counter\n",
    "import random\n",
    "import IPython\n",
    "from IPython.display import Image, Audio\n",
    "import music21\n",
    "from music21 import *\n",
    "import music21 as m21\n",
    "import matplotlib.pyplot as plt \n",
    "from sklearn.model_selection import train_test_split\n",
    "from tensorflow.keras.models import Sequential\n",
    "from tensorflow.keras.layers import LSTM, Dense, Dropout\n",
    "import tensorflow.keras.backend as K\n",
    "from tensorflow.keras.optimizers import Adamax\n",
    "import seaborn as sns\n",
    "import matplotlib.pyplot as plt\n",
    "import matplotlib.patches as mpatches\n",
    "%matplotlib inline\n",
    "import sys\n",
    "import pathlib\n",
    "import warnings\n",
    "\n",
    "import collections\n",
    "import datetime\n",
    "import fluidsynth\n",
    "import glob\n",
    "import pathlib\n",
    "import pretty_midi\n",
    "import seaborn as sns\n",
    "import tensorflow as tf\n",
    "from midi2audio import FluidSynth\n",
    "# from IPython import display\n",
    "from typing import Dict, List, Optional, Sequence, Tuple\n",
    "\n",
    "warnings.filterwarnings(\"ignore\")\n",
    "warnings.simplefilter(\"ignore\")\n",
    "np.random.seed(42)"
   ]
  },
  {
   "cell_type": "markdown",
   "id": "07dbf938-b684-4dff-9435-d506b54d6330",
   "metadata": {},
   "source": [
    "## **2.Load Data**"
   ]
  },
  {
   "cell_type": "code",
   "execution_count": 4,
   "id": "5a8674d3-b721-4a4a-b038-f382781a20a6",
   "metadata": {},
   "outputs": [],
   "source": [
    "#Loading the list of mozart's midi files as stream \n",
    "filepath = \"datasets/mozart/\"\n",
    "#Getting midi files\n",
    "all_midis= [] #Initialize an Empty List that will later store the MIDI files converted into music streams.\n",
    "for i in os.listdir(filepath):\n",
    "    if i.endswith(\".mid\"):\n",
    "        tr = filepath+i\n",
    "        midi = converter.parse(tr)  #use music21.converter.parse() method to parse MIDI files into music streams \n",
    "        all_midis.append(midi)"
   ]
  },
  {
   "cell_type": "code",
   "execution_count": 5,
   "id": "c01bebb4-0977-46e3-a6c7-ace5cf45aa4e",
   "metadata": {},
   "outputs": [
    {
     "name": "stdout",
     "output_type": "stream",
     "text": [
      "Total notes in all the Mozart midis in the dataset: 55802\n"
     ]
    }
   ],
   "source": [
    "#Function to get the notes\n",
    "      \n",
    "def extract_notes(file):\n",
    "    notes = [] # It initialized an empty list called 'notes', which will store the individual notes and chords\n",
    "    pick = None\n",
    "    for j in file:\n",
    "        songs = instrument.partitionByInstrument(j) #It uses the instrument.partitionByInstrument() method to identify different parts of the music, such as separate instruments or voices.\n",
    "        for part in songs.parts: \n",
    "            pick = part.recurse()#uses part.recurse() to traverse all elements in that part, such as notes, chords, and rests\n",
    "            for element in pick:\n",
    "                if isinstance(element, note.Note):\n",
    "                    notes.append(str(element.pitch))\n",
    "                elif isinstance(element, chord.Chord):\n",
    "                    notes.append(\".\".join(str(n) for n in element.normalOrder))\n",
    " #For each element, it checks its type using isinstance() and, if it's a single note (note.Note), it appends its pitch to the notes list. \n",
    " #If it's a chord (chord.Chord), it appends the chord pitches as a dot-separated string to the notes list.\n",
    "    return notes\n",
    "#Getting the list of notes as Corpus\n",
    "Corpus= extract_notes(all_midis)\n",
    "print(\"Total notes in all the Mozart midis in the dataset:\", len(Corpus))"
   ]
  },
  {
   "cell_type": "markdown",
   "id": "e4d0ffc0-77ec-4552-824c-33a7574b2fdb",
   "metadata": {},
   "source": [
    "## **2.1 Data exploration**"
   ]
  },
  {
   "cell_type": "markdown",
   "id": "7ae56f5b-331f-4c96-8c59-59cdab0538c0",
   "metadata": {},
   "source": [
    "### Examine all the notes in the Corpus"
   ]
  },
  {
   "cell_type": "code",
   "execution_count": 6,
   "id": "844cddd5-3d37-47ed-a08e-1cc4164dd7fa",
   "metadata": {},
   "outputs": [
    {
     "name": "stdout",
     "output_type": "stream",
     "text": [
      "Total unique notes in the Corpus: 229\n"
     ]
    }
   ],
   "source": [
    "#Creating a count dictionary\n",
    "count_num = Counter(Corpus)\n",
    "print(\"Total unique notes in the Corpus:\", len(count_num))"
   ]
  },
  {
   "cell_type": "code",
   "execution_count": 7,
   "id": "dd2a7db5-77a0-42ef-a077-107154e0cde9",
   "metadata": {},
   "outputs": [
    {
     "name": "stdout",
     "output_type": "stream",
     "text": [
      "Average recurrenc for a note in Corpus: 243.6768558951965\n",
      "Most frequent note in Corpus appeared: 2355 times\n",
      "Least frequent note in Corpus appeared: 1 time\n"
     ]
    }
   ],
   "source": [
    "#Exploring the notes dictionary\n",
    "Notes = list(count_num.keys())\n",
    "Recurrence = list(count_num.values())\n",
    "#Average recurrenc for a note in Corpus\n",
    "def Average(lst):\n",
    "    return sum(lst) / len(lst)\n",
    "print(\"Average recurrenc for a note in Corpus:\", Average(Recurrence))\n",
    "print(\"Most frequent note in Corpus appeared:\", max(Recurrence), \"times\")\n",
    "print(\"Least frequent note in Corpus appeared:\", min(Recurrence), \"time\")"
   ]
  },
  {
   "cell_type": "code",
   "execution_count": 8,
   "id": "6b6a67b5-105e-4669-8e7e-ae5026b772db",
   "metadata": {},
   "outputs": [
    {
     "name": "stdout",
     "output_type": "stream",
     "text": [
      "['2.6.9', '9.2', 'G5', '2.6', 'F#5', 'E5', 'A5', '4.7', '6.9', 'B5', 'C#6', 'D6', 'F#3', 'D4', 'D3', 'E3', 'A3', 'C#4', 'F5', '2', 'D5', 'F#4', 'A4', '6.7', 'C#5', 'E4', 'G4', 'B3', '7.9', 'G3', '7.11', 'E-5', '8.11', 'B4', 'C#3', 'A2', '4.9', '1.4', '9.1.4', '1.2', 'G#5', 'G#3', 'G#4', 'C5', '4.8', '4.6', '3.4', '2.4', '8.9', '6.8', 'E-4', 'B2', 'G#2', 'E2', '4.6.8', '11.1', '9.11', '9.1', '4.8.11', '8.11.2', '5', '6', '11.2', '11', '11.3', '3.6', 'G2', 'F#2', 'B-4', '9', 'D2', '8', '10', 'F3', 'B-5', 'B-3', '10.1', '10.1.4', 'B1', '11.2.6', '0.2.6', '7', '0.4', 'C4', '2.4.6', 'C3', '2.7', '11.4', 'C6', '9.0', 'F4', '4', 'E6', '9.11.1', '1.4.7', '7.0', '0', '7.9.11', '6.7.9', '6.9.11', '4.7.9', '2.8', '4.6.7', '8.9.11', '1', '4.7.10', '4.7.11', '7.11.2', '2.4.9', '7.9.1', '11.0.2', '9.11.0', '0.2', '1.7', '3', '11.0', '1.2.4', 'E-3', '9.0.3', '5.7.11', '2.5.8', '9.0.4', '0.4.7', 'E-6', '0.2.7', '9.11.0.2', 'C2', '11.2.4', '10.11.1', '2.4.8', '4.10', '1.6', '0.4.6', '11.3.6', '5.11', '6.10.1', 'B-2', '9.0.2', '10.11', '1.4.7.9', '0.1', '2.3', '4.5', '0.6', '9.11.3', '6.11', '6.9.0', '5.7', '0.5', '5.9', '2.5', '6.9.0.2', '3.6.9', '10.0', '9.10', '3.7', '3.5', 'F6', '11.2.5.7', '4.5.7', '2.5.9', '5.9.0', '7.10.0', '5.10', '11.2.5', '0.3', '10.2', '7.10', '3.5.9', '10.2.5', 'F2', '8.0', '5.8', '1.5.8', '7.10.1.3', '0.1.3', '9.0.3.5', '1.5', '10.0.4', '5.8.0', '8.10', '2.4.5', '8.11.2.4', '8.1', 'A1', 'C#2', '3.9', '1.3', '3.8', '7.8', '11.1.2', '3.4.6', '5.6', '8.10.2', '9.1.2.4', '8.11.1.4', '1.4.7.10', '2.5.8.11', '2.5.7', '0.3.6', '7.10.2', '7.10.1', '0.3.6.9', 'E-2', '9.10.0', '5.7.9', '3.5.7', '3.7.10', '0.3.7', '10.0.2', '4.7.10.0', 'B-1', '1.3.7', '0.3.5', '10.3', 'G6', '6.10', '2.3.5', '7.8.10', '3.4.5', '5.7.10', '5.8.11', '5.8.10', '10.0.3', '10.2.3', '5.7.9.10.0', '9.10.0.2.3.5.7', '6.8.0', '8.10.0']\n"
     ]
    }
   ],
   "source": [
    "print(Notes)"
   ]
  },
  {
   "cell_type": "code",
   "execution_count": 9,
   "id": "4e173e10-de41-4f7f-862c-b94894c4b7a9",
   "metadata": {},
   "outputs": [
    {
     "data": {
      "image/png": "[encoded data removed]",
      "text/plain": [
       "<Figure size 1800x300 with 1 Axes>"
      ]
     },
     "metadata": {
      "image/png": {
       "height": 315,
       "width": 1470
      }
     },
     "output_type": "display_data"
    }
   ],
   "source": [
    "# Plotting the distribution of Notes\n",
    "plt.figure(figsize=(18,3),facecolor=\"#97BACB\")\n",
    "bins = np.arange(0,(max(Recurrence)), 50) \n",
    "plt.hist(Recurrence, bins=bins, color=\"#97BACB\")\n",
    "plt.axvline(x=100,color=\"#DBACC1\")\n",
    "plt.title(\"Frequency Distribution Of Notes In The Corpus\")\n",
    "plt.xlabel(\"Frequency Of Chords in Corpus\")\n",
    "plt.ylabel(\"Number Of Chords\")\n",
    "plt.show()"
   ]
  },
  {
   "cell_type": "code",
   "execution_count": 10,
   "id": "ff7ffe52-ccd0-4db1-be28-629ef8a24f6f",
   "metadata": {},
   "outputs": [
    {
     "name": "stdout",
     "output_type": "stream",
     "text": [
      "Total number of notes that occur less than 100 times: 145\n"
     ]
    }
   ],
   "source": [
    "#Getting a list of rare chords\n",
    "rare_note = []\n",
    "for index, (key, value) in enumerate(count_num.items()):\n",
    "    if value < 100:\n",
    "        m =  key\n",
    "        rare_note.append(m)\n",
    "        \n",
    "print(\"Total number of notes that occur less than 100 times:\", len(rare_note))"
   ]
  },
  {
   "cell_type": "code",
   "execution_count": 11,
   "id": "4c29bd98-72bb-4cee-afff-751032746b69",
   "metadata": {},
   "outputs": [
    {
     "name": "stdout",
     "output_type": "stream",
     "text": [
      "Length of Corpus after eliminating the rare notes: 52722\n"
     ]
    }
   ],
   "source": [
    "Corpus_clean = [note for note in Corpus if note not in rare_note]\n",
    "\n",
    "print(\"Length of Corpus after eliminating the rare notes:\", len(Corpus_clean))"
   ]
  },
  {
   "cell_type": "markdown",
   "id": "83706e53-f6a4-448b-9a50-31cfcbeb549e",
   "metadata": {},
   "source": [
    "## **3.DATA PREPROCESSING**"
   ]
  },
  {
   "cell_type": "markdown",
   "id": "0685e2b8-b470-4d6b-8919-e7c0d47253fd",
   "metadata": {},
   "source": [
    "**3.1 Creating a list of sorted unique characters**"
   ]
  },
  {
   "cell_type": "code",
   "execution_count": 12,
   "id": "89fdfbd5-19de-44f2-b70a-57b2102f0716",
   "metadata": {},
   "outputs": [
    {
     "name": "stdout",
     "output_type": "stream",
     "text": [
      "Total number of characters: 55802\n",
      "Number of unique characters: 229\n"
     ]
    }
   ],
   "source": [
    "# Storing all the unique characters present in my corpus to bult a mapping dic. \n",
    "symb = sorted(list(set(Corpus)))\n",
    "\n",
    "L_corpus = len(Corpus) #length of corpus\n",
    "L_symb = len(symb) #length of total unique characters\n",
    "\n",
    "#Building dictionary to access the vocabulary from indices and vice versa\n",
    "#to build dictionary of ‘key to valuedictionary’ and dictionary of ‘value to key’\n",
    "mapping = dict((c, i) for i, c in enumerate(symb))\n",
    "reverse_mapping = dict((i, c) for i, c in enumerate(symb))\n",
    "\n",
    "print(\"Total number of characters:\", L_corpus)\n",
    "print(\"Number of unique characters:\", L_symb)"
   ]
  },
  {
   "cell_type": "code",
   "execution_count": 13,
   "id": "d21f5fb7-91b4-41a8-b0c4-aa4487806f5f",
   "metadata": {},
   "outputs": [
    {
     "data": {
      "text/plain": [
       "62"
      ]
     },
     "execution_count": 13,
     "metadata": {},
     "output_type": "execute_result"
    }
   ],
   "source": [
    "mapping['2.4.9']"
   ]
  },
  {
   "cell_type": "markdown",
   "id": "a785f831-b204-4d1f-ba60-1f549226a81e",
   "metadata": {},
   "source": [
    "**3.2 Save dataset**"
   ]
  },
  {
   "cell_type": "code",
   "execution_count": 15,
   "id": "76257771-eb71-4446-8948-97d859706e98",
   "metadata": {},
   "outputs": [],
   "source": [
    "import pickle\n",
    "\n",
    "# 保存数据\n",
    "with open('mapping.pkl', 'wb') as f:\n",
    "    pickle.dump(mapping, f)\n",
    "\n",
    "with open('reverse_mapping.pkl', 'wb') as f:\n",
    "    pickle.dump(reverse_mapping, f)\n",
    "\n",
    "with open('L_corpus.pkl', 'wb') as f:\n",
    "    pickle.dump(L_corpus, f)\n",
    "\n",
    "with open('L_symb.pkl', 'wb') as f:\n",
    "    pickle.dump(L_symb, f)\n",
    "    \n",
    "with open('Corpus.pkl', 'wb') as f:\n",
    "    pickle.dump(Corpus, f)\n"
   ]
  },
  {
   "cell_type": "code",
   "execution_count": null,
   "id": "42facb9a-130c-4560-82cc-ae3356e7ad5c",
   "metadata": {},
   "outputs": [],
   "source": []
  },
  {
   "cell_type": "code",
   "execution_count": null,
   "id": "eb6bfce4-7ff8-40ac-bc96-712ab2c9a4f7",
   "metadata": {},
   "outputs": [],
   "source": []
  }
 ],
 "metadata": {
  "kernelspec": {
   "display_name": "fyp1",
   "language": "python",
   "name": "fyp1"
  },
  "language_info": {
   "codemirror_mode": {
    "name": "ipython",
    "version": 3
   },
   "file_extension": ".py",
   "mimetype": "text/x-python",
   "name": "python",
   "nbconvert_exporter": "python",
   "pygments_lexer": "ipython3",
   "version": "3.11.4"
  }
 },
 "nbformat": 4,
 "nbformat_minor": 5
}
